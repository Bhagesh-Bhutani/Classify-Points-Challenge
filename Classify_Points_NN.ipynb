{
 "cells": [
  {
   "cell_type": "code",
   "execution_count": 1,
   "metadata": {},
   "outputs": [],
   "source": [
    "import matplotlib.pyplot as plt"
   ]
  },
  {
   "cell_type": "code",
   "execution_count": 2,
   "metadata": {},
   "outputs": [
    {
     "name": "stderr",
     "output_type": "stream",
     "text": [
      "Using TensorFlow backend.\n"
     ]
    }
   ],
   "source": [
    "from keras.models import Sequential\n",
    "from keras.layers import Dense"
   ]
  },
  {
   "cell_type": "code",
   "execution_count": 75,
   "metadata": {},
   "outputs": [],
   "source": [
    "model=Sequential()"
   ]
  },
  {
   "cell_type": "code",
   "execution_count": 4,
   "metadata": {},
   "outputs": [],
   "source": [
    "import pandas as pd"
   ]
  },
  {
   "cell_type": "code",
   "execution_count": 46,
   "metadata": {},
   "outputs": [],
   "source": [
    "X=pd.read_csv(\"Logistic_X_Train.csv\")\n",
    "Y=pd.read_csv(\"Logistic_Y_Train.csv\")"
   ]
  },
  {
   "cell_type": "code",
   "execution_count": 6,
   "metadata": {},
   "outputs": [
    {
     "data": {
      "text/html": [
       "<div>\n",
       "<style scoped>\n",
       "    .dataframe tbody tr th:only-of-type {\n",
       "        vertical-align: middle;\n",
       "    }\n",
       "\n",
       "    .dataframe tbody tr th {\n",
       "        vertical-align: top;\n",
       "    }\n",
       "\n",
       "    .dataframe thead th {\n",
       "        text-align: right;\n",
       "    }\n",
       "</style>\n",
       "<table border=\"1\" class=\"dataframe\">\n",
       "  <thead>\n",
       "    <tr style=\"text-align: right;\">\n",
       "      <th></th>\n",
       "      <th>f1</th>\n",
       "      <th>f2</th>\n",
       "    </tr>\n",
       "  </thead>\n",
       "  <tbody>\n",
       "    <tr>\n",
       "      <td>0</td>\n",
       "      <td>0.574727</td>\n",
       "      <td>0.787277</td>\n",
       "    </tr>\n",
       "    <tr>\n",
       "      <td>1</td>\n",
       "      <td>0.251502</td>\n",
       "      <td>0.908940</td>\n",
       "    </tr>\n",
       "    <tr>\n",
       "      <td>2</td>\n",
       "      <td>1.860578</td>\n",
       "      <td>0.013763</td>\n",
       "    </tr>\n",
       "    <tr>\n",
       "      <td>3</td>\n",
       "      <td>0.019477</td>\n",
       "      <td>1.047210</td>\n",
       "    </tr>\n",
       "    <tr>\n",
       "      <td>4</td>\n",
       "      <td>0.029794</td>\n",
       "      <td>0.252236</td>\n",
       "    </tr>\n",
       "    <tr>\n",
       "      <td>...</td>\n",
       "      <td>...</td>\n",
       "      <td>...</td>\n",
       "    </tr>\n",
       "    <tr>\n",
       "      <td>2245</td>\n",
       "      <td>1.694862</td>\n",
       "      <td>0.031078</td>\n",
       "    </tr>\n",
       "    <tr>\n",
       "      <td>2246</td>\n",
       "      <td>-0.015928</td>\n",
       "      <td>-0.145282</td>\n",
       "    </tr>\n",
       "    <tr>\n",
       "      <td>2247</td>\n",
       "      <td>0.441794</td>\n",
       "      <td>-0.387912</td>\n",
       "    </tr>\n",
       "    <tr>\n",
       "      <td>2248</td>\n",
       "      <td>0.219570</td>\n",
       "      <td>-0.117130</td>\n",
       "    </tr>\n",
       "    <tr>\n",
       "      <td>2249</td>\n",
       "      <td>-1.147648</td>\n",
       "      <td>0.433564</td>\n",
       "    </tr>\n",
       "  </tbody>\n",
       "</table>\n",
       "<p>2250 rows × 2 columns</p>\n",
       "</div>"
      ],
      "text/plain": [
       "            f1        f2\n",
       "0     0.574727  0.787277\n",
       "1     0.251502  0.908940\n",
       "2     1.860578  0.013763\n",
       "3     0.019477  1.047210\n",
       "4     0.029794  0.252236\n",
       "...        ...       ...\n",
       "2245  1.694862  0.031078\n",
       "2246 -0.015928 -0.145282\n",
       "2247  0.441794 -0.387912\n",
       "2248  0.219570 -0.117130\n",
       "2249 -1.147648  0.433564\n",
       "\n",
       "[2250 rows x 2 columns]"
      ]
     },
     "execution_count": 6,
     "metadata": {},
     "output_type": "execute_result"
    }
   ],
   "source": [
    "X"
   ]
  },
  {
   "cell_type": "code",
   "execution_count": 7,
   "metadata": {},
   "outputs": [
    {
     "data": {
      "text/html": [
       "<div>\n",
       "<style scoped>\n",
       "    .dataframe tbody tr th:only-of-type {\n",
       "        vertical-align: middle;\n",
       "    }\n",
       "\n",
       "    .dataframe tbody tr th {\n",
       "        vertical-align: top;\n",
       "    }\n",
       "\n",
       "    .dataframe thead th {\n",
       "        text-align: right;\n",
       "    }\n",
       "</style>\n",
       "<table border=\"1\" class=\"dataframe\">\n",
       "  <thead>\n",
       "    <tr style=\"text-align: right;\">\n",
       "      <th></th>\n",
       "      <th>label</th>\n",
       "    </tr>\n",
       "  </thead>\n",
       "  <tbody>\n",
       "    <tr>\n",
       "      <td>0</td>\n",
       "      <td>0</td>\n",
       "    </tr>\n",
       "    <tr>\n",
       "      <td>1</td>\n",
       "      <td>0</td>\n",
       "    </tr>\n",
       "    <tr>\n",
       "      <td>2</td>\n",
       "      <td>1</td>\n",
       "    </tr>\n",
       "    <tr>\n",
       "      <td>3</td>\n",
       "      <td>0</td>\n",
       "    </tr>\n",
       "    <tr>\n",
       "      <td>4</td>\n",
       "      <td>1</td>\n",
       "    </tr>\n",
       "    <tr>\n",
       "      <td>...</td>\n",
       "      <td>...</td>\n",
       "    </tr>\n",
       "    <tr>\n",
       "      <td>2245</td>\n",
       "      <td>1</td>\n",
       "    </tr>\n",
       "    <tr>\n",
       "      <td>2246</td>\n",
       "      <td>1</td>\n",
       "    </tr>\n",
       "    <tr>\n",
       "      <td>2247</td>\n",
       "      <td>1</td>\n",
       "    </tr>\n",
       "    <tr>\n",
       "      <td>2248</td>\n",
       "      <td>1</td>\n",
       "    </tr>\n",
       "    <tr>\n",
       "      <td>2249</td>\n",
       "      <td>0</td>\n",
       "    </tr>\n",
       "  </tbody>\n",
       "</table>\n",
       "<p>2250 rows × 1 columns</p>\n",
       "</div>"
      ],
      "text/plain": [
       "      label\n",
       "0         0\n",
       "1         0\n",
       "2         1\n",
       "3         0\n",
       "4         1\n",
       "...     ...\n",
       "2245      1\n",
       "2246      1\n",
       "2247      1\n",
       "2248      1\n",
       "2249      0\n",
       "\n",
       "[2250 rows x 1 columns]"
      ]
     },
     "execution_count": 7,
     "metadata": {},
     "output_type": "execute_result"
    }
   ],
   "source": [
    "Y"
   ]
  },
  {
   "cell_type": "code",
   "execution_count": 77,
   "metadata": {},
   "outputs": [
    {
     "name": "stdout",
     "output_type": "stream",
     "text": [
      "Model: \"sequential_7\"\n",
      "_________________________________________________________________\n",
      "Layer (type)                 Output Shape              Param #   \n",
      "=================================================================\n",
      "dense_22 (Dense)             (None, 64)                192       \n",
      "_________________________________________________________________\n",
      "dense_23 (Dense)             (None, 4)                 260       \n",
      "_________________________________________________________________\n",
      "dense_24 (Dense)             (None, 2)                 10        \n",
      "=================================================================\n",
      "Total params: 462\n",
      "Trainable params: 462\n",
      "Non-trainable params: 0\n",
      "_________________________________________________________________\n"
     ]
    }
   ],
   "source": [
    "model.add(Dense(64,activation='relu',input_dim=2))\n",
    "model.add(Dense(4,activation='relu'))\n",
    "model.add(Dense(2,activation='sigmoid'))\n",
    "model.summary()\n",
    "model.compile(optimizer='adam',loss='categorical_crossentropy',metrics=['accuracy'])"
   ]
  },
  {
   "cell_type": "code",
   "execution_count": 38,
   "metadata": {},
   "outputs": [],
   "source": [
    "a=np.array([1,2,1,3])"
   ]
  },
  {
   "cell_type": "code",
   "execution_count": 9,
   "metadata": {},
   "outputs": [],
   "source": [
    "import numpy as np"
   ]
  },
  {
   "cell_type": "code",
   "execution_count": 16,
   "metadata": {},
   "outputs": [
    {
     "data": {
      "text/plain": [
       "array([[0.5, 0.5],\n",
       "       [0.2, 0.8],\n",
       "       [0.8, 0.2]])"
      ]
     },
     "execution_count": 16,
     "metadata": {},
     "output_type": "execute_result"
    }
   ],
   "source": [
    "a"
   ]
  },
  {
   "cell_type": "code",
   "execution_count": 12,
   "metadata": {},
   "outputs": [],
   "source": [
    "from keras.utils import to_categorical"
   ]
  },
  {
   "cell_type": "code",
   "execution_count": 39,
   "metadata": {},
   "outputs": [],
   "source": [
    "b=to_categorical(a)"
   ]
  },
  {
   "cell_type": "code",
   "execution_count": null,
   "metadata": {},
   "outputs": [],
   "source": [
    "b=to_categorical"
   ]
  },
  {
   "cell_type": "code",
   "execution_count": 40,
   "metadata": {},
   "outputs": [
    {
     "data": {
      "text/plain": [
       "array([[0., 1., 0., 0.],\n",
       "       [0., 0., 1., 0.],\n",
       "       [0., 1., 0., 0.],\n",
       "       [0., 0., 0., 1.]], dtype=float32)"
      ]
     },
     "execution_count": 40,
     "metadata": {},
     "output_type": "execute_result"
    }
   ],
   "source": [
    "b"
   ]
  },
  {
   "cell_type": "code",
   "execution_count": 48,
   "metadata": {},
   "outputs": [],
   "source": [
    "X=np.array(X)"
   ]
  },
  {
   "cell_type": "code",
   "execution_count": 49,
   "metadata": {},
   "outputs": [],
   "source": [
    "Y=np.array(Y)"
   ]
  },
  {
   "cell_type": "code",
   "execution_count": 53,
   "metadata": {},
   "outputs": [
    {
     "data": {
      "image/png": "[encoded data removed]",
      "text/plain": [
       "<Figure size 432x288 with 1 Axes>"
      ]
     },
     "metadata": {
      "needs_background": "light"
     },
     "output_type": "display_data"
    }
   ],
   "source": [
    "plt.scatter(X[:,0],X[:,1],c=Y[:,0])\n",
    "plt.show()"
   ]
  },
  {
   "cell_type": "code",
   "execution_count": 54,
   "metadata": {},
   "outputs": [
    {
     "data": {
      "text/plain": [
       "(2250,)"
      ]
     },
     "execution_count": 54,
     "metadata": {},
     "output_type": "execute_result"
    }
   ],
   "source": [
    "Y[:,0].shape"
   ]
  },
  {
   "cell_type": "code",
   "execution_count": 63,
   "metadata": {},
   "outputs": [],
   "source": [
    "YOHT=to_categorical(Y)"
   ]
  },
  {
   "cell_type": "code",
   "execution_count": 64,
   "metadata": {},
   "outputs": [
    {
     "data": {
      "text/plain": [
       "(2250, 2)"
      ]
     },
     "execution_count": 64,
     "metadata": {},
     "output_type": "execute_result"
    }
   ],
   "source": [
    "YOHT.shape"
   ]
  },
  {
   "cell_type": "code",
   "execution_count": 65,
   "metadata": {},
   "outputs": [
    {
     "data": {
      "text/plain": [
       "array([[1., 0.],\n",
       "       [1., 0.],\n",
       "       [0., 1.],\n",
       "       ...,\n",
       "       [0., 1.],\n",
       "       [0., 1.],\n",
       "       [1., 0.]], dtype=float32)"
      ]
     },
     "execution_count": 65,
     "metadata": {},
     "output_type": "execute_result"
    }
   ],
   "source": [
    "YOHT"
   ]
  },
  {
   "cell_type": "code",
   "execution_count": 88,
   "metadata": {},
   "outputs": [
    {
     "name": "stdout",
     "output_type": "stream",
     "text": [
      "Train on 1800 samples, validate on 450 samples\n",
      "Epoch 1/100\n",
      "1800/1800 [==============================] - 0s 72us/step - loss: 0.0919 - accuracy: 0.9678 - val_loss: 0.0843 - val_accuracy: 0.9689\n",
      "Epoch 2/100\n",
      "1800/1800 [==============================] - 0s 78us/step - loss: 0.0924 - accuracy: 0.9650 - val_loss: 0.0839 - val_accuracy: 0.9689\n",
      "Epoch 3/100\n",
      "1800/1800 [==============================] - 0s 78us/step - loss: 0.0934 - accuracy: 0.9672 - val_loss: 0.0853 - val_accuracy: 0.9711\n",
      "Epoch 4/100\n",
      "1800/1800 [==============================] - 0s 79us/step - loss: 0.0924 - accuracy: 0.9661 - val_loss: 0.0854 - val_accuracy: 0.9711\n",
      "Epoch 5/100\n",
      "1800/1800 [==============================] - 0s 79us/step - loss: 0.0918 - accuracy: 0.9672 - val_loss: 0.0836 - val_accuracy: 0.9711\n",
      "Epoch 6/100\n",
      "1800/1800 [==============================] - 0s 78us/step - loss: 0.0933 - accuracy: 0.9639 - val_loss: 0.0911 - val_accuracy: 0.9644\n",
      "Epoch 7/100\n",
      "1800/1800 [==============================] - 0s 77us/step - loss: 0.0900 - accuracy: 0.9667 - val_loss: 0.0848 - val_accuracy: 0.9756\n",
      "Epoch 8/100\n",
      "1800/1800 [==============================] - 0s 89us/step - loss: 0.0914 - accuracy: 0.9678 - val_loss: 0.0918 - val_accuracy: 0.9622\n",
      "Epoch 9/100\n",
      "1800/1800 [==============================] - 0s 82us/step - loss: 0.0919 - accuracy: 0.9683 - val_loss: 0.0894 - val_accuracy: 0.9689\n",
      "Epoch 10/100\n",
      "1800/1800 [==============================] - 0s 78us/step - loss: 0.0934 - accuracy: 0.9678 - val_loss: 0.0872 - val_accuracy: 0.9644\n",
      "Epoch 11/100\n",
      "1800/1800 [==============================] - 0s 79us/step - loss: 0.0906 - accuracy: 0.9672 - val_loss: 0.0804 - val_accuracy: 0.9689\n",
      "Epoch 12/100\n",
      "1800/1800 [==============================] - 0s 84us/step - loss: 0.0921 - accuracy: 0.9661 - val_loss: 0.0835 - val_accuracy: 0.9689\n",
      "Epoch 13/100\n",
      "1800/1800 [==============================] - 0s 80us/step - loss: 0.0906 - accuracy: 0.9672 - val_loss: 0.0828 - val_accuracy: 0.9689\n",
      "Epoch 14/100\n",
      "1800/1800 [==============================] - 0s 83us/step - loss: 0.0907 - accuracy: 0.9667 - val_loss: 0.0824 - val_accuracy: 0.9711\n",
      "Epoch 15/100\n",
      "1800/1800 [==============================] - 0s 88us/step - loss: 0.0926 - accuracy: 0.9672 - val_loss: 0.0842 - val_accuracy: 0.9689\n",
      "Epoch 16/100\n",
      "1800/1800 [==============================] - 0s 86us/step - loss: 0.0907 - accuracy: 0.9656 - val_loss: 0.0920 - val_accuracy: 0.9667\n",
      "Epoch 17/100\n",
      "1800/1800 [==============================] - 0s 85us/step - loss: 0.0921 - accuracy: 0.9661 - val_loss: 0.0876 - val_accuracy: 0.9667\n",
      "Epoch 18/100\n",
      "1800/1800 [==============================] - 0s 77us/step - loss: 0.0910 - accuracy: 0.9667 - val_loss: 0.0848 - val_accuracy: 0.9689\n",
      "Epoch 19/100\n",
      "1800/1800 [==============================] - 0s 79us/step - loss: 0.0910 - accuracy: 0.9694 - val_loss: 0.0820 - val_accuracy: 0.9689\n",
      "Epoch 20/100\n",
      "1800/1800 [==============================] - 0s 75us/step - loss: 0.0920 - accuracy: 0.9678 - val_loss: 0.0872 - val_accuracy: 0.9667\n",
      "Epoch 21/100\n",
      "1800/1800 [==============================] - 0s 79us/step - loss: 0.0911 - accuracy: 0.9672 - val_loss: 0.0856 - val_accuracy: 0.9711\n",
      "Epoch 22/100\n",
      "1800/1800 [==============================] - 0s 77us/step - loss: 0.0914 - accuracy: 0.9656 - val_loss: 0.0827 - val_accuracy: 0.9689\n",
      "Epoch 23/100\n",
      "1800/1800 [==============================] - 0s 81us/step - loss: 0.0913 - accuracy: 0.9678 - val_loss: 0.0854 - val_accuracy: 0.9667\n",
      "Epoch 24/100\n",
      "1800/1800 [==============================] - 0s 80us/step - loss: 0.0904 - accuracy: 0.9683 - val_loss: 0.0838 - val_accuracy: 0.9689\n",
      "Epoch 25/100\n",
      "1800/1800 [==============================] - 0s 77us/step - loss: 0.0906 - accuracy: 0.9661 - val_loss: 0.0847 - val_accuracy: 0.9689\n",
      "Epoch 26/100\n",
      "1800/1800 [==============================] - 0s 79us/step - loss: 0.0909 - accuracy: 0.9656 - val_loss: 0.0875 - val_accuracy: 0.9689\n",
      "Epoch 27/100\n",
      "1800/1800 [==============================] - 0s 85us/step - loss: 0.0902 - accuracy: 0.9689 - val_loss: 0.0841 - val_accuracy: 0.9711\n",
      "Epoch 28/100\n",
      "1800/1800 [==============================] - 0s 80us/step - loss: 0.0907 - accuracy: 0.9661 - val_loss: 0.0872 - val_accuracy: 0.9667\n",
      "Epoch 29/100\n",
      "1800/1800 [==============================] - 0s 48us/step - loss: 0.0913 - accuracy: 0.9678 - val_loss: 0.0908 - val_accuracy: 0.9644\n",
      "Epoch 30/100\n",
      "1800/1800 [==============================] - 0s 74us/step - loss: 0.0907 - accuracy: 0.9656 - val_loss: 0.0825 - val_accuracy: 0.9711\n",
      "Epoch 31/100\n",
      "1800/1800 [==============================] - 0s 50us/step - loss: 0.0914 - accuracy: 0.9672 - val_loss: 0.0814 - val_accuracy: 0.9689\n",
      "Epoch 32/100\n",
      "1800/1800 [==============================] - 0s 50us/step - loss: 0.0914 - accuracy: 0.9661 - val_loss: 0.0803 - val_accuracy: 0.9689\n",
      "Epoch 33/100\n",
      "1800/1800 [==============================] - 0s 52us/step - loss: 0.0918 - accuracy: 0.9689 - val_loss: 0.0832 - val_accuracy: 0.9689\n",
      "Epoch 34/100\n",
      "1800/1800 [==============================] - 0s 81us/step - loss: 0.0900 - accuracy: 0.9661 - val_loss: 0.0837 - val_accuracy: 0.9689\n",
      "Epoch 35/100\n",
      "1800/1800 [==============================] - 0s 81us/step - loss: 0.0910 - accuracy: 0.9678 - val_loss: 0.0818 - val_accuracy: 0.9689\n",
      "Epoch 36/100\n",
      "1800/1800 [==============================] - 0s 83us/step - loss: 0.0915 - accuracy: 0.9672 - val_loss: 0.0842 - val_accuracy: 0.9667\n",
      "Epoch 37/100\n",
      "1800/1800 [==============================] - 0s 77us/step - loss: 0.0906 - accuracy: 0.9689 - val_loss: 0.0820 - val_accuracy: 0.9689\n",
      "Epoch 38/100\n",
      "1800/1800 [==============================] - 0s 78us/step - loss: 0.0906 - accuracy: 0.9683 - val_loss: 0.0847 - val_accuracy: 0.9689\n",
      "Epoch 39/100\n",
      "1800/1800 [==============================] - 0s 78us/step - loss: 0.0904 - accuracy: 0.9678 - val_loss: 0.0844 - val_accuracy: 0.9689\n",
      "Epoch 40/100\n",
      "1800/1800 [==============================] - 0s 77us/step - loss: 0.0901 - accuracy: 0.9661 - val_loss: 0.0868 - val_accuracy: 0.9689\n",
      "Epoch 41/100\n",
      "1800/1800 [==============================] - 0s 86us/step - loss: 0.0909 - accuracy: 0.9672 - val_loss: 0.0855 - val_accuracy: 0.9711\n",
      "Epoch 42/100\n",
      "1800/1800 [==============================] - 0s 81us/step - loss: 0.0909 - accuracy: 0.9650 - val_loss: 0.0910 - val_accuracy: 0.9644\n",
      "Epoch 43/100\n",
      "1800/1800 [==============================] - 0s 79us/step - loss: 0.0916 - accuracy: 0.9678 - val_loss: 0.0894 - val_accuracy: 0.9667\n",
      "Epoch 44/100\n",
      "1800/1800 [==============================] - 0s 84us/step - loss: 0.0902 - accuracy: 0.9689 - val_loss: 0.0847 - val_accuracy: 0.9689\n",
      "Epoch 45/100\n",
      "1800/1800 [==============================] - 0s 84us/step - loss: 0.0908 - accuracy: 0.9678 - val_loss: 0.0846 - val_accuracy: 0.9689\n",
      "Epoch 46/100\n",
      "1800/1800 [==============================] - 0s 85us/step - loss: 0.0909 - accuracy: 0.9678 - val_loss: 0.0831 - val_accuracy: 0.9689\n",
      "Epoch 47/100\n",
      "1800/1800 [==============================] - 0s 82us/step - loss: 0.0900 - accuracy: 0.9661 - val_loss: 0.0845 - val_accuracy: 0.9667\n",
      "Epoch 48/100\n",
      "1800/1800 [==============================] - 0s 81us/step - loss: 0.0906 - accuracy: 0.9672 - val_loss: 0.0852 - val_accuracy: 0.9733\n",
      "Epoch 49/100\n",
      "1800/1800 [==============================] - 0s 77us/step - loss: 0.0907 - accuracy: 0.9644 - val_loss: 0.0905 - val_accuracy: 0.9644\n",
      "Epoch 50/100\n",
      "1800/1800 [==============================] - 0s 78us/step - loss: 0.0900 - accuracy: 0.9700 - val_loss: 0.0854 - val_accuracy: 0.9667\n",
      "Epoch 51/100\n",
      "1800/1800 [==============================] - 0s 84us/step - loss: 0.0897 - accuracy: 0.9683 - val_loss: 0.0810 - val_accuracy: 0.9689\n",
      "Epoch 52/100\n",
      "1800/1800 [==============================] - 0s 79us/step - loss: 0.0913 - accuracy: 0.9683 - val_loss: 0.0820 - val_accuracy: 0.9689\n",
      "Epoch 53/100\n",
      "1800/1800 [==============================] - 0s 84us/step - loss: 0.0905 - accuracy: 0.9689 - val_loss: 0.0838 - val_accuracy: 0.9689\n",
      "Epoch 54/100\n",
      "1800/1800 [==============================] - 0s 84us/step - loss: 0.0900 - accuracy: 0.9683 - val_loss: 0.0923 - val_accuracy: 0.9622\n",
      "Epoch 55/100\n",
      "1800/1800 [==============================] - 0s 78us/step - loss: 0.0911 - accuracy: 0.9667 - val_loss: 0.0847 - val_accuracy: 0.9689\n",
      "Epoch 56/100\n",
      "1800/1800 [==============================] - 0s 85us/step - loss: 0.0898 - accuracy: 0.9672 - val_loss: 0.0850 - val_accuracy: 0.9689\n",
      "Epoch 57/100\n",
      "1800/1800 [==============================] - 0s 75us/step - loss: 0.0907 - accuracy: 0.9683 - val_loss: 0.0860 - val_accuracy: 0.9667\n",
      "Epoch 58/100\n",
      "1800/1800 [==============================] - 0s 79us/step - loss: 0.0898 - accuracy: 0.9689 - val_loss: 0.0817 - val_accuracy: 0.9689\n",
      "Epoch 59/100\n",
      "1800/1800 [==============================] - 0s 78us/step - loss: 0.0898 - accuracy: 0.9683 - val_loss: 0.0886 - val_accuracy: 0.9644\n",
      "Epoch 60/100\n",
      "1800/1800 [==============================] - 0s 76us/step - loss: 0.0903 - accuracy: 0.9667 - val_loss: 0.0838 - val_accuracy: 0.9689\n",
      "Epoch 61/100\n",
      "1800/1800 [==============================] - 0s 76us/step - loss: 0.0896 - accuracy: 0.9706 - val_loss: 0.0853 - val_accuracy: 0.9667\n",
      "Epoch 62/100\n",
      "1800/1800 [==============================] - 0s 78us/step - loss: 0.0897 - accuracy: 0.9661 - val_loss: 0.0843 - val_accuracy: 0.9689\n",
      "Epoch 63/100\n",
      "1800/1800 [==============================] - 0s 76us/step - loss: 0.0904 - accuracy: 0.9689 - val_loss: 0.0852 - val_accuracy: 0.9667\n",
      "Epoch 64/100\n",
      "1800/1800 [==============================] - 0s 90us/step - loss: 0.0895 - accuracy: 0.9678 - val_loss: 0.0831 - val_accuracy: 0.9689\n",
      "Epoch 65/100\n",
      "1800/1800 [==============================] - 0s 86us/step - loss: 0.0902 - accuracy: 0.9672 - val_loss: 0.0833 - val_accuracy: 0.9689\n",
      "Epoch 66/100\n",
      "1800/1800 [==============================] - 0s 81us/step - loss: 0.0898 - accuracy: 0.9678 - val_loss: 0.0844 - val_accuracy: 0.9667\n",
      "Epoch 67/100\n",
      "1800/1800 [==============================] - 0s 77us/step - loss: 0.0897 - accuracy: 0.9689 - val_loss: 0.0831 - val_accuracy: 0.9689\n",
      "Epoch 68/100\n",
      "1800/1800 [==============================] - 0s 77us/step - loss: 0.0895 - accuracy: 0.9656 - val_loss: 0.0873 - val_accuracy: 0.9689\n",
      "Epoch 69/100\n",
      "1800/1800 [==============================] - 0s 77us/step - loss: 0.0916 - accuracy: 0.9672 - val_loss: 0.0824 - val_accuracy: 0.9689\n",
      "Epoch 70/100\n",
      "1800/1800 [==============================] - 0s 78us/step - loss: 0.0913 - accuracy: 0.9678 - val_loss: 0.0829 - val_accuracy: 0.9711\n",
      "Epoch 71/100\n",
      "1800/1800 [==============================] - 0s 78us/step - loss: 0.0905 - accuracy: 0.9672 - val_loss: 0.0824 - val_accuracy: 0.9689\n",
      "Epoch 72/100\n",
      "1800/1800 [==============================] - 0s 78us/step - loss: 0.0898 - accuracy: 0.9672 - val_loss: 0.0864 - val_accuracy: 0.9644\n",
      "Epoch 73/100\n",
      "1800/1800 [==============================] - 0s 77us/step - loss: 0.0903 - accuracy: 0.9678 - val_loss: 0.0845 - val_accuracy: 0.9667\n",
      "Epoch 74/100\n",
      "1800/1800 [==============================] - 0s 76us/step - loss: 0.0892 - accuracy: 0.9683 - val_loss: 0.0805 - val_accuracy: 0.9689\n",
      "Epoch 75/100\n",
      "1800/1800 [==============================] - 0s 78us/step - loss: 0.0892 - accuracy: 0.9672 - val_loss: 0.0870 - val_accuracy: 0.9689\n",
      "Epoch 76/100\n",
      "1800/1800 [==============================] - 0s 78us/step - loss: 0.0907 - accuracy: 0.9672 - val_loss: 0.0867 - val_accuracy: 0.9644\n",
      "Epoch 77/100\n",
      "1800/1800 [==============================] - 0s 78us/step - loss: 0.0891 - accuracy: 0.9694 - val_loss: 0.0845 - val_accuracy: 0.9667\n",
      "Epoch 78/100\n",
      "1800/1800 [==============================] - 0s 79us/step - loss: 0.0899 - accuracy: 0.9689 - val_loss: 0.0900 - val_accuracy: 0.9644\n",
      "Epoch 79/100\n",
      "1800/1800 [==============================] - 0s 76us/step - loss: 0.0910 - accuracy: 0.9683 - val_loss: 0.0809 - val_accuracy: 0.9689\n",
      "Epoch 80/100\n",
      "1800/1800 [==============================] - 0s 84us/step - loss: 0.0908 - accuracy: 0.9672 - val_loss: 0.0824 - val_accuracy: 0.9689\n",
      "Epoch 81/100\n",
      "1800/1800 [==============================] - 0s 74us/step - loss: 0.0899 - accuracy: 0.9689 - val_loss: 0.0850 - val_accuracy: 0.9667\n",
      "Epoch 82/100\n",
      "1800/1800 [==============================] - 0s 79us/step - loss: 0.0897 - accuracy: 0.9667 - val_loss: 0.0836 - val_accuracy: 0.9689\n",
      "Epoch 83/100\n",
      "1800/1800 [==============================] - 0s 75us/step - loss: 0.0894 - accuracy: 0.9678 - val_loss: 0.0882 - val_accuracy: 0.9644\n",
      "Epoch 84/100\n",
      "1800/1800 [==============================] - 0s 78us/step - loss: 0.0894 - accuracy: 0.9689 - val_loss: 0.0820 - val_accuracy: 0.9689\n",
      "Epoch 85/100\n",
      "1800/1800 [==============================] - 0s 78us/step - loss: 0.0899 - accuracy: 0.9689 - val_loss: 0.0845 - val_accuracy: 0.9711\n",
      "Epoch 86/100\n",
      "1800/1800 [==============================] - 0s 80us/step - loss: 0.0911 - accuracy: 0.9672 - val_loss: 0.0811 - val_accuracy: 0.9689\n",
      "Epoch 87/100\n",
      "1800/1800 [==============================] - 0s 76us/step - loss: 0.0906 - accuracy: 0.9661 - val_loss: 0.0852 - val_accuracy: 0.9644\n",
      "Epoch 88/100\n",
      "1800/1800 [==============================] - 0s 78us/step - loss: 0.0904 - accuracy: 0.9672 - val_loss: 0.0829 - val_accuracy: 0.9689\n",
      "Epoch 89/100\n",
      "1800/1800 [==============================] - 0s 78us/step - loss: 0.0908 - accuracy: 0.9700 - val_loss: 0.0862 - val_accuracy: 0.9644\n",
      "Epoch 90/100\n",
      "1800/1800 [==============================] - 0s 78us/step - loss: 0.0895 - accuracy: 0.9683 - val_loss: 0.0855 - val_accuracy: 0.9667\n",
      "Epoch 91/100\n",
      "1800/1800 [==============================] - 0s 77us/step - loss: 0.0909 - accuracy: 0.9672 - val_loss: 0.0820 - val_accuracy: 0.9689\n",
      "Epoch 92/100\n",
      "1800/1800 [==============================] - 0s 75us/step - loss: 0.0894 - accuracy: 0.9667 - val_loss: 0.0828 - val_accuracy: 0.9689\n",
      "Epoch 93/100\n",
      "1800/1800 [==============================] - 0s 79us/step - loss: 0.0894 - accuracy: 0.9678 - val_loss: 0.0830 - val_accuracy: 0.9711\n",
      "Epoch 94/100\n",
      "1800/1800 [==============================] - 0s 76us/step - loss: 0.0882 - accuracy: 0.9683 - val_loss: 0.0902 - val_accuracy: 0.9689\n",
      "Epoch 95/100\n",
      "1800/1800 [==============================] - 0s 76us/step - loss: 0.0888 - accuracy: 0.9667 - val_loss: 0.0836 - val_accuracy: 0.9689\n",
      "Epoch 96/100\n",
      "1800/1800 [==============================] - 0s 78us/step - loss: 0.0917 - accuracy: 0.9661 - val_loss: 0.0890 - val_accuracy: 0.9667\n",
      "Epoch 97/100\n",
      "1800/1800 [==============================] - 0s 76us/step - loss: 0.0911 - accuracy: 0.9678 - val_loss: 0.0820 - val_accuracy: 0.9689\n",
      "Epoch 98/100\n",
      "1800/1800 [==============================] - 0s 78us/step - loss: 0.0902 - accuracy: 0.9667 - val_loss: 0.0824 - val_accuracy: 0.9689\n",
      "Epoch 99/100\n",
      "1800/1800 [==============================] - 0s 78us/step - loss: 0.0900 - accuracy: 0.9661 - val_loss: 0.0837 - val_accuracy: 0.9689\n",
      "Epoch 100/100\n",
      "1800/1800 [==============================] - 0s 78us/step - loss: 0.0894 - accuracy: 0.9683 - val_loss: 0.0818 - val_accuracy: 0.9689\n"
     ]
    }
   ],
   "source": [
    "hist=model.fit(X,YOHT,epochs=100,validation_split=0.2)"
   ]
  },
  {
   "cell_type": "code",
   "execution_count": 84,
   "metadata": {},
   "outputs": [
    {
     "data": {
      "text/plain": [
       "dict_keys(['val_loss', 'val_accuracy', 'loss', 'accuracy'])"
      ]
     },
     "execution_count": 84,
     "metadata": {},
     "output_type": "execute_result"
    }
   ],
   "source": [
    "hist.history.keys()"
   ]
  },
  {
   "cell_type": "code",
   "execution_count": 89,
   "metadata": {},
   "outputs": [
    {
     "data": {
      "image/png": "[encoded data removed]",
      "text/plain": [
       "<Figure size 432x288 with 1 Axes>"
      ]
     },
     "metadata": {
      "needs_background": "light"
     },
     "output_type": "display_data"
    }
   ],
   "source": [
    "train_acc=hist.history[\"accuracy\"]\n",
    "train_loss=hist.history[\"loss\"]\n",
    "val_loss=hist.history[\"val_loss\"]\n",
    "val_acc=hist.history[\"val_accuracy\"]\n",
    "\n",
    "plt.plot(train_acc,label=\"Acc\")\n",
    "plt.plot(train_loss,label=\"loss\")\n",
    "plt.plot(val_loss,label=\"Val loss\")\n",
    "plt.plot(val_acc,label=\"val Acc\")\n",
    "\n",
    "plt.legend()\n",
    "plt.show()"
   ]
  },
  {
   "cell_type": "code",
   "execution_count": 91,
   "metadata": {},
   "outputs": [
    {
     "name": "stdout",
     "output_type": "stream",
     "text": [
      "2250/2250 [==============================] - 0s 29us/step\n"
     ]
    },
    {
     "data": {
      "text/plain": [
       "[0.08680230922169156, 0.967555582523346]"
      ]
     },
     "execution_count": 91,
     "metadata": {},
     "output_type": "execute_result"
    }
   ],
   "source": [
    "model.evaluate(X,YOHT)"
   ]
  },
  {
   "cell_type": "code",
   "execution_count": 92,
   "metadata": {},
   "outputs": [],
   "source": [
    "X_test=pd.read_csv(\"Logistic_X_Test.csv\")"
   ]
  },
  {
   "cell_type": "code",
   "execution_count": 94,
   "metadata": {},
   "outputs": [
    {
     "data": {
      "text/plain": [
       "(750, 2)"
      ]
     },
     "execution_count": 94,
     "metadata": {},
     "output_type": "execute_result"
    }
   ],
   "source": [
    "X_test.shape"
   ]
  },
  {
   "cell_type": "code",
   "execution_count": 98,
   "metadata": {},
   "outputs": [],
   "source": [
    "pred=np.argmax(model.predict(X_test),axis=1)"
   ]
  },
  {
   "cell_type": "code",
   "execution_count": 101,
   "metadata": {},
   "outputs": [
    {
     "data": {
      "text/plain": [
       "(750,)"
      ]
     },
     "execution_count": 101,
     "metadata": {},
     "output_type": "execute_result"
    }
   ],
   "source": [
    "pred.shape"
   ]
  },
  {
   "cell_type": "code",
   "execution_count": 102,
   "metadata": {},
   "outputs": [],
   "source": [
    "pred=pd.DataFrame(pred,columns=[\"label\"])"
   ]
  },
  {
   "cell_type": "code",
   "execution_count": 103,
   "metadata": {},
   "outputs": [
    {
     "data": {
      "text/html": [
       "<div>\n",
       "<style scoped>\n",
       "    .dataframe tbody tr th:only-of-type {\n",
       "        vertical-align: middle;\n",
       "    }\n",
       "\n",
       "    .dataframe tbody tr th {\n",
       "        vertical-align: top;\n",
       "    }\n",
       "\n",
       "    .dataframe thead th {\n",
       "        text-align: right;\n",
       "    }\n",
       "</style>\n",
       "<table border=\"1\" class=\"dataframe\">\n",
       "  <thead>\n",
       "    <tr style=\"text-align: right;\">\n",
       "      <th></th>\n",
       "      <th>label</th>\n",
       "    </tr>\n",
       "  </thead>\n",
       "  <tbody>\n",
       "    <tr>\n",
       "      <td>0</td>\n",
       "      <td>0</td>\n",
       "    </tr>\n",
       "    <tr>\n",
       "      <td>1</td>\n",
       "      <td>0</td>\n",
       "    </tr>\n",
       "    <tr>\n",
       "      <td>2</td>\n",
       "      <td>1</td>\n",
       "    </tr>\n",
       "    <tr>\n",
       "      <td>3</td>\n",
       "      <td>0</td>\n",
       "    </tr>\n",
       "    <tr>\n",
       "      <td>4</td>\n",
       "      <td>1</td>\n",
       "    </tr>\n",
       "    <tr>\n",
       "      <td>...</td>\n",
       "      <td>...</td>\n",
       "    </tr>\n",
       "    <tr>\n",
       "      <td>745</td>\n",
       "      <td>0</td>\n",
       "    </tr>\n",
       "    <tr>\n",
       "      <td>746</td>\n",
       "      <td>1</td>\n",
       "    </tr>\n",
       "    <tr>\n",
       "      <td>747</td>\n",
       "      <td>0</td>\n",
       "    </tr>\n",
       "    <tr>\n",
       "      <td>748</td>\n",
       "      <td>0</td>\n",
       "    </tr>\n",
       "    <tr>\n",
       "      <td>749</td>\n",
       "      <td>0</td>\n",
       "    </tr>\n",
       "  </tbody>\n",
       "</table>\n",
       "<p>750 rows × 1 columns</p>\n",
       "</div>"
      ],
      "text/plain": [
       "     label\n",
       "0        0\n",
       "1        0\n",
       "2        1\n",
       "3        0\n",
       "4        1\n",
       "..     ...\n",
       "745      0\n",
       "746      1\n",
       "747      0\n",
       "748      0\n",
       "749      0\n",
       "\n",
       "[750 rows x 1 columns]"
      ]
     },
     "execution_count": 103,
     "metadata": {},
     "output_type": "execute_result"
    }
   ],
   "source": [
    "pred"
   ]
  },
  {
   "cell_type": "code",
   "execution_count": 105,
   "metadata": {},
   "outputs": [],
   "source": [
    "pred.to_csv(\"pred.csv\",index=False)"
   ]
  },
  {
   "cell_type": "code",
   "execution_count": null,
   "metadata": {},
   "outputs": [],
   "source": []
  }
 ],
 "metadata": {
  "kernelspec": {
   "display_name": "Python 3",
   "language": "python",
   "name": "python3"
  },
  "language_info": {
   "codemirror_mode": {
    "name": "ipython",
    "version": 3
   },
   "file_extension": ".py",
   "mimetype": "text/x-python",
   "name": "python",
   "nbconvert_exporter": "python",
   "pygments_lexer": "ipython3",
   "version": "3.7.3"
  }
 },
 "nbformat": 4,
 "nbformat_minor": 2
}
